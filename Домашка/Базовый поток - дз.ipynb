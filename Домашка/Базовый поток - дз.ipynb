{
 "cells": [
  {
   "cell_type": "code",
   "execution_count": 2,
   "metadata": {},
   "outputs": [
    {
     "ename": "IndexError",
     "evalue": "list index out of range",
     "output_type": "error",
     "traceback": [
      "\u001b[1;31m---------------------------------------------------------------------------\u001b[0m",
      "\u001b[1;31mIndexError\u001b[0m                                Traceback (most recent call last)",
      "\u001b[1;32m<ipython-input-2-a2fd9464ddde>\u001b[0m in \u001b[0;36m<module>\u001b[1;34m\u001b[0m\n\u001b[1;32m----> 1\u001b[1;33m \u001b[0mprint\u001b[0m\u001b[1;33m(\u001b[0m\u001b[0mlist\u001b[0m\u001b[1;33m(\u001b[0m\u001b[0mrange\u001b[0m\u001b[1;33m(\u001b[0m\u001b[1;36m3\u001b[0m\u001b[1;33m)\u001b[0m\u001b[1;33m)\u001b[0m\u001b[1;33m[\u001b[0m\u001b[1;36m3\u001b[0m\u001b[1;33m]\u001b[0m\u001b[1;33m)\u001b[0m\u001b[1;33m\u001b[0m\u001b[1;33m\u001b[0m\u001b[0m\n\u001b[0m",
      "\u001b[1;31mIndexError\u001b[0m: list index out of range"
     ]
    }
   ],
   "source": [
    "print(list(range(3))[3])"
   ]
  },
  {
   "cell_type": "code",
   "execution_count": 4,
   "metadata": {},
   "outputs": [
    {
     "name": "stdout",
     "output_type": "stream",
     "text": [
      "o\n"
     ]
    }
   ],
   "source": [
    "text = 'hello'\n",
    "\n",
    "print(text[4:100])"
   ]
  },
  {
   "cell_type": "code",
   "execution_count": 7,
   "metadata": {},
   "outputs": [
    {
     "name": "stdout",
     "output_type": "stream",
     "text": [
      "56789\n"
     ]
    }
   ],
   "source": [
    "file = open(\"out.txt\", \"w\")\n",
    "\n",
    "for i in range(5):\n",
    "\n",
    "    file.write(str(i))\n",
    "\n",
    "file.close()\n",
    "\n",
    "file = open(\"out.txt\", \"w\")\n",
    "\n",
    "for i in range(5, 10):\n",
    "\n",
    "    file.write(str(i))\n",
    "\n",
    "file.close()\n",
    "\n",
    "file = open(\"out.txt\", \"r\")\n",
    "\n",
    "for i in file:\n",
    "    print(i)\n"
   ]
  },
  {
   "cell_type": "code",
   "execution_count": 41,
   "metadata": {},
   "outputs": [
    {
     "name": "stdout",
     "output_type": "stream",
     "text": [
      "1\n"
     ]
    }
   ],
   "source": [
    "def almost_double_factorial(n):\n",
    "    result = 1\n",
    "    for i in range(1, n + 1):\n",
    "        if i % 2 != 0:\n",
    "            result = result * i\n",
    "    return result \n",
    "\n",
    "print(almost_double_factorial(0))"
   ]
  },
  {
   "cell_type": "code",
   "execution_count": 59,
   "metadata": {},
   "outputs": [
    {
     "data": {
      "text/plain": [
       "[('string', 'a'), ('one', 'two'), ('three', 'four'), ('five', 'six')]"
      ]
     },
     "execution_count": 59,
     "metadata": {},
     "output_type": "execute_result"
    }
   ],
   "source": [
    "items = [('one', 'two'), ('three', 'four'), ('five', 'six'), ('string', 'a')]\n",
    "\n",
    "sorted_items = sorted(items, key=lambda x: x[1][-1])\n",
    "\n",
    "sorted_items"
   ]
  },
  {
   "cell_type": "code",
   "execution_count": 172,
   "metadata": {},
   "outputs": [
    {
     "name": "stdout",
     "output_type": "stream",
     "text": [
      "[-5, 2, -3, 4, -1]\n"
     ]
    }
   ],
   "source": [
    "x = [1, 2, 3, 4, 5]\n",
    "x[slice(None, None, -2)] = [-1, -3, -5]\n",
    "\n",
    "print(x)"
   ]
  },
  {
   "cell_type": "code",
   "execution_count": 169,
   "metadata": {},
   "outputs": [
    {
     "name": "stdout",
     "output_type": "stream",
     "text": [
      "[-5, 2, -3, 4, -1]\n"
     ]
    }
   ],
   "source": [
    "x = [1, 2, 3, 4, 5]\n",
    "x[::-2] = [-1, -3, -5]\n",
    "\n",
    "print(x)"
   ]
  },
  {
   "cell_type": "code",
   "execution_count": null,
   "metadata": {},
   "outputs": [],
   "source": [
    "def cumsum_and_erase(A, erase = 1):\n",
    "\n",
    "    B = #YOUR CODE\n",
    "    return B"
   ]
  },
  {
   "cell_type": "code",
   "execution_count": 2,
   "metadata": {},
   "outputs": [],
   "source": [
    "sentences = ['1 thousand devils', 'My name is 9Pasha', 'Room #125 costs $100']\n",
    "\n",
    "def process(sentences):\n",
    "    sentences = str.join()\n",
    "\n",
    "    \n",
    "    return result"
   ]
  },
  {
   "cell_type": "code",
   "execution_count": 3,
   "metadata": {},
   "outputs": [
    {
     "data": {
      "text/plain": [
       "194844.0"
      ]
     },
     "execution_count": 3,
     "metadata": {},
     "output_type": "execute_result"
    }
   ],
   "source": [
    "204843-4703-(42666345 - 30962185)/2210\n"
   ]
  },
  {
   "cell_type": "code",
   "execution_count": 4,
   "metadata": {},
   "outputs": [
    {
     "data": {
      "text/plain": [
       "558.0"
      ]
     },
     "execution_count": 4,
     "metadata": {},
     "output_type": "execute_result"
    }
   ],
   "source": [
    "(46056 + 1575936/3456)/456 + 207936/456"
   ]
  },
  {
   "cell_type": "code",
   "execution_count": 13,
   "metadata": {},
   "outputs": [
    {
     "data": {
      "text/plain": [
       "['thousand devils', 'My name is', 'Room costs']"
      ]
     },
     "execution_count": 13,
     "metadata": {},
     "output_type": "execute_result"
    }
   ],
   "source": [
    "def process(sentences):\n",
    "    result=[]\n",
    "    for sentence in sentences:\n",
    "        st=\"\"\n",
    "        for word in sentence.split():\n",
    "            if word.isalpha():\n",
    "                st+=word+ \" \"\n",
    "            s1=st[0:-1]  \n",
    "        result.append(s1)     \n",
    "    return result\n",
    "\n",
    "a = ['1 thousand devils', 'My name is 9Pasha', 'Room #125 costs $100']\n",
    "\n",
    "process(a)"
   ]
  },
  {
   "cell_type": "code",
   "execution_count": 52,
   "metadata": {},
   "outputs": [
    {
     "name": "stdout",
     "output_type": "stream",
     "text": [
      "neuron.forward = []\n"
     ]
    },
    {
     "data": {
      "text/plain": [
       "list"
      ]
     },
     "execution_count": 52,
     "metadata": {},
     "output_type": "execute_result"
    }
   ],
   "source": [
    "class Neuron:\n",
    "\n",
    "    def __init__(self, w, f = lambda x: x):\n",
    "        self.w = w\n",
    "        self.f = f \n",
    "        self.x = [] \n",
    "    def forward(self, x):\n",
    "        x = self.x\n",
    "        w = self.w\n",
    "        i = 0\n",
    "        proiz = []\n",
    "        while i < len(x):\n",
    "            proiz = w[i] * x[i] \n",
    "        return proiz\n",
    "    def backlog(self):\n",
    "        return self.x\n",
    "    \n",
    "\n",
    "neuron = Neuron([0.1, 0.3, 0.2, 0.35, 0.7]) #Передача весов\n",
    "print('neuron.forward = ' + str(neuron.forward([4, 1, 15, 16, 100]))) #Передача иксов\n",
    "neuron.backlog()\n",
    "type(neuron.backlog()) "
   ]
  },
  {
   "cell_type": "code",
   "execution_count": 56,
   "metadata": {},
   "outputs": [],
   "source": [
    "class Neuron:\n",
    "\n",
    "    def __init__(self, w, f = lambda x: x):\n",
    "        self.w = w\n",
    "        self.f = f\n",
    "    def forward(self, x):\n",
    "        a = self.w\n",
    "        x = self.f\n",
    "        i = 0\n",
    "        mult = []\n",
    "        while i<len(w):\n",
    "            mult.append(w[i]*x[i])\n",
    "            i+=1   \n",
    "        return mult\n",
    "    def backlog(self):\n",
    "        self.x = x\n",
    "        return x"
   ]
  },
  {
   "cell_type": "code",
   "execution_count": 57,
   "metadata": {},
   "outputs": [
    {
     "ename": "NameError",
     "evalue": "name 'w' is not defined",
     "output_type": "error",
     "traceback": [
      "\u001b[1;31m---------------------------------------------------------------------------\u001b[0m",
      "\u001b[1;31mNameError\u001b[0m                                 Traceback (most recent call last)",
      "\u001b[1;32m<ipython-input-57-ac8f960da8e2>\u001b[0m in \u001b[0;36m<module>\u001b[1;34m\u001b[0m\n\u001b[0;32m      6\u001b[0m         \u001b[0mprint\u001b[0m\u001b[1;33m(\u001b[0m\u001b[1;34m\"Ошибка в решении!\"\u001b[0m\u001b[1;33m)\u001b[0m\u001b[1;33m\u001b[0m\u001b[1;33m\u001b[0m\u001b[0m\n\u001b[0;32m      7\u001b[0m \u001b[1;33m\u001b[0m\u001b[0m\n\u001b[1;32m----> 8\u001b[1;33m \u001b[0mTest\u001b[0m\u001b[1;33m(\u001b[0m\u001b[1;33m)\u001b[0m\u001b[1;33m\u001b[0m\u001b[1;33m\u001b[0m\u001b[0m\n\u001b[0m",
      "\u001b[1;32m<ipython-input-57-ac8f960da8e2>\u001b[0m in \u001b[0;36mTest\u001b[1;34m()\u001b[0m\n\u001b[0;32m      1\u001b[0m \u001b[1;32mdef\u001b[0m \u001b[0mTest\u001b[0m\u001b[1;33m(\u001b[0m\u001b[1;33m)\u001b[0m\u001b[1;33m:\u001b[0m\u001b[1;33m\u001b[0m\u001b[1;33m\u001b[0m\u001b[0m\n\u001b[0;32m      2\u001b[0m     \u001b[0mtest_neuron\u001b[0m \u001b[1;33m=\u001b[0m \u001b[0mNeuron\u001b[0m\u001b[1;33m(\u001b[0m\u001b[1;33m[\u001b[0m\u001b[1;36m2\u001b[0m\u001b[1;33m,\u001b[0m \u001b[1;36m3\u001b[0m\u001b[1;33m,\u001b[0m \u001b[1;36m4\u001b[0m\u001b[1;33m,\u001b[0m \u001b[1;36m5\u001b[0m\u001b[1;33m,\u001b[0m \u001b[1;36m6\u001b[0m\u001b[1;33m]\u001b[0m\u001b[1;33m,\u001b[0m \u001b[1;32mlambda\u001b[0m \u001b[0mx\u001b[0m\u001b[1;33m:\u001b[0m \u001b[0mx\u001b[0m\u001b[1;33m*\u001b[0m\u001b[0mx\u001b[0m\u001b[1;33m)\u001b[0m\u001b[1;33m\u001b[0m\u001b[1;33m\u001b[0m\u001b[0m\n\u001b[1;32m----> 3\u001b[1;33m     \u001b[1;32mif\u001b[0m \u001b[1;33m(\u001b[0m\u001b[0mtest_neuron\u001b[0m\u001b[1;33m.\u001b[0m\u001b[0mforward\u001b[0m\u001b[1;33m(\u001b[0m\u001b[1;33m[\u001b[0m\u001b[1;36m1\u001b[0m\u001b[1;33m,\u001b[0m \u001b[1;36m2\u001b[0m\u001b[1;33m,\u001b[0m \u001b[1;36m3\u001b[0m\u001b[1;33m,\u001b[0m \u001b[1;36m4\u001b[0m\u001b[1;33m,\u001b[0m \u001b[1;36m5\u001b[0m\u001b[1;33m]\u001b[0m\u001b[1;33m)\u001b[0m \u001b[1;33m==\u001b[0m \u001b[1;36m4900\u001b[0m \u001b[1;32mand\u001b[0m \u001b[0mtest_neuron\u001b[0m\u001b[1;33m.\u001b[0m\u001b[0mbacklog\u001b[0m\u001b[1;33m(\u001b[0m\u001b[1;33m)\u001b[0m \u001b[1;33m==\u001b[0m \u001b[1;33m[\u001b[0m\u001b[1;36m1\u001b[0m\u001b[1;33m,\u001b[0m \u001b[1;36m2\u001b[0m\u001b[1;33m,\u001b[0m \u001b[1;36m3\u001b[0m\u001b[1;33m,\u001b[0m \u001b[1;36m4\u001b[0m\u001b[1;33m,\u001b[0m \u001b[1;36m5\u001b[0m\u001b[1;33m]\u001b[0m\u001b[1;33m)\u001b[0m\u001b[1;33m:\u001b[0m\u001b[1;33m\u001b[0m\u001b[1;33m\u001b[0m\u001b[0m\n\u001b[0m\u001b[0;32m      4\u001b[0m         \u001b[0mprint\u001b[0m\u001b[1;33m(\u001b[0m\u001b[1;34m\"Задание успешно выполнено!\"\u001b[0m\u001b[1;33m)\u001b[0m\u001b[1;33m\u001b[0m\u001b[1;33m\u001b[0m\u001b[0m\n\u001b[0;32m      5\u001b[0m     \u001b[1;32melse\u001b[0m\u001b[1;33m:\u001b[0m\u001b[1;33m\u001b[0m\u001b[1;33m\u001b[0m\u001b[0m\n",
      "\u001b[1;32m<ipython-input-56-ade0d043e9bf>\u001b[0m in \u001b[0;36mforward\u001b[1;34m(self, x)\u001b[0m\n\u001b[0;32m      9\u001b[0m         \u001b[0mi\u001b[0m \u001b[1;33m=\u001b[0m \u001b[1;36m0\u001b[0m\u001b[1;33m\u001b[0m\u001b[1;33m\u001b[0m\u001b[0m\n\u001b[0;32m     10\u001b[0m         \u001b[0mmult\u001b[0m \u001b[1;33m=\u001b[0m \u001b[1;33m[\u001b[0m\u001b[1;33m]\u001b[0m\u001b[1;33m\u001b[0m\u001b[1;33m\u001b[0m\u001b[0m\n\u001b[1;32m---> 11\u001b[1;33m         \u001b[1;32mwhile\u001b[0m \u001b[0mi\u001b[0m\u001b[1;33m<\u001b[0m\u001b[0mlen\u001b[0m\u001b[1;33m(\u001b[0m\u001b[0mw\u001b[0m\u001b[1;33m)\u001b[0m\u001b[1;33m:\u001b[0m\u001b[1;33m\u001b[0m\u001b[1;33m\u001b[0m\u001b[0m\n\u001b[0m\u001b[0;32m     12\u001b[0m             \u001b[0mmult\u001b[0m\u001b[1;33m.\u001b[0m\u001b[0mappend\u001b[0m\u001b[1;33m(\u001b[0m\u001b[0mw\u001b[0m\u001b[1;33m[\u001b[0m\u001b[0mi\u001b[0m\u001b[1;33m]\u001b[0m\u001b[1;33m*\u001b[0m\u001b[0mx\u001b[0m\u001b[1;33m[\u001b[0m\u001b[0mi\u001b[0m\u001b[1;33m]\u001b[0m\u001b[1;33m)\u001b[0m\u001b[1;33m\u001b[0m\u001b[1;33m\u001b[0m\u001b[0m\n\u001b[0;32m     13\u001b[0m             \u001b[0mi\u001b[0m\u001b[1;33m+=\u001b[0m\u001b[1;36m1\u001b[0m\u001b[1;33m\u001b[0m\u001b[1;33m\u001b[0m\u001b[0m\n",
      "\u001b[1;31mNameError\u001b[0m: name 'w' is not defined"
     ]
    }
   ],
   "source": [
    "def Test():\n",
    "    test_neuron = Neuron([2, 3, 4, 5, 6], lambda x: x*x)\n",
    "    if (test_neuron.forward([1, 2, 3, 4, 5]) == 4900 and test_neuron.backlog() == [1, 2, 3, 4, 5]):\n",
    "        print(\"Задание успешно выполнено!\")\n",
    "    else:\n",
    "        print(\"Ошибка в решении!\")\n",
    "    \n",
    "Test()"
   ]
  },
  {
   "cell_type": "code",
   "execution_count": 66,
   "metadata": {},
   "outputs": [],
   "source": [
    "class Neuron:\n",
    "\n",
    "    def __init__(self, w, f = lambda x: x):\n",
    "        self.w = w\n",
    "        self.f = f\n",
    "    def forward(self, x):\n",
    "        self.x = x\n",
    "        sum = 0\n",
    "        for i in range(len(x)):\n",
    "            sum = sum + self.w[i] * x[i]\n",
    "        return self.f(sum)\n",
    "\n",
    "    def backlog(self):\n",
    "        return self.x"
   ]
  },
  {
   "cell_type": "code",
   "execution_count": 67,
   "metadata": {},
   "outputs": [
    {
     "name": "stdout",
     "output_type": "stream",
     "text": [
      "Задание успешно выполнено!\n"
     ]
    }
   ],
   "source": [
    "def Test():\n",
    "    test_neuron = Neuron([2, 3, 4, 5, 6], lambda x: x*x)\n",
    "    if (test_neuron.forward([1, 2, 3, 4, 5]) == 4900 and test_neuron.backlog() == [1, 2, 3, 4, 5]):\n",
    "        print(\"Задание успешно выполнено!\")\n",
    "    else:\n",
    "        print(\"Ошибка в решении!\")\n",
    "    \n",
    "Test()"
   ]
  },
  {
   "cell_type": "code",
   "execution_count": 2,
   "metadata": {},
   "outputs": [],
   "source": [
    "import numpy as np"
   ]
  },
  {
   "cell_type": "code",
   "execution_count": 33,
   "metadata": {},
   "outputs": [],
   "source": [
    "a = [1, 2, 3]\n",
    "b = [2, 3, 2]\n",
    "\n",
    "def no_numpy_scalar(v1, v2):\n",
    "    result = 0\n",
    "    for i in range(len(v1)):\n",
    "        result += v1[i] * v2[i]\n",
    "    return result\n",
    "\n",
    "def numpy_scalar (v1, v2):\n",
    "\n",
    "    result = np.dot(v1,v2)\n",
    "    return result"
   ]
  },
  {
   "cell_type": "code",
   "execution_count": 34,
   "metadata": {},
   "outputs": [
    {
     "data": {
      "text/plain": [
       "14"
      ]
     },
     "execution_count": 34,
     "metadata": {},
     "output_type": "execute_result"
    }
   ],
   "source": [
    "numpy_scalar (a, b)"
   ]
  },
  {
   "cell_type": "code",
   "execution_count": 35,
   "metadata": {},
   "outputs": [
    {
     "data": {
      "text/plain": [
       "14"
      ]
     },
     "execution_count": 35,
     "metadata": {},
     "output_type": "execute_result"
    }
   ],
   "source": [
    "no_numpy_scalar(a, b)"
   ]
  },
  {
   "cell_type": "code",
   "execution_count": 67,
   "metadata": {},
   "outputs": [],
   "source": [
    "a = np.array([\n",
    "    [1, 2, 1],\n",
    "    [1, 1, 1],\n",
    "    [1, 2, 1]\n",
    "])\n",
    "\n",
    "def diag_2k(a):\n",
    "    a = a.diagonal()\n",
    "    result = 0\n",
    "    for i in a:\n",
    "        if(i%2 == 0):\n",
    "            result += i\n",
    "    return result\n",
    "    "
   ]
  },
  {
   "cell_type": "code",
   "execution_count": 68,
   "metadata": {},
   "outputs": [
    {
     "data": {
      "text/plain": [
       "0"
      ]
     },
     "execution_count": 68,
     "metadata": {},
     "output_type": "execute_result"
    }
   ],
   "source": [
    "diag_2k(a)"
   ]
  },
  {
   "cell_type": "code",
   "execution_count": 75,
   "metadata": {},
   "outputs": [],
   "source": [
    "def cumsum(A):\n",
    "    #param A: np.array[m,n]\n",
    "    #YOUR CODE\n",
    "\n",
    "    result = np.cumsum(A,1)\n",
    "    return result"
   ]
  },
  {
   "cell_type": "code",
   "execution_count": 74,
   "metadata": {},
   "outputs": [
    {
     "data": {
      "text/plain": [
       "array([[1, 3, 4],\n",
       "       [1, 2, 3],\n",
       "       [1, 3, 4]], dtype=int32)"
      ]
     },
     "execution_count": 74,
     "metadata": {},
     "output_type": "execute_result"
    }
   ],
   "source": [
    "cumsum(a)"
   ]
  },
  {
   "cell_type": "code",
   "execution_count": 253,
   "metadata": {},
   "outputs": [],
   "source": [
    "import numpy as np\n",
    "\n",
    "X = np.array([\n",
    "     [1,2,3],\n",
    "     [1,2,3]\n",
    "])\n",
    "\n",
    "\n",
    "def transform(X, a=1):\n",
    "    B = np.array(X)\n",
    "    for index, x in np.ndenumerate(B):\n",
    "        if index[1]%2 == 0:\n",
    "                B[index] = x**3\n",
    "        else:\n",
    "            B[index] = a\n",
    "    B = np.fliplr(B)\n",
    "    \n",
    "    result=np.concatenate((X, B), axis=1)\n",
    "    return result"
   ]
  },
  {
   "cell_type": "code",
   "execution_count": 254,
   "metadata": {},
   "outputs": [
    {
     "data": {
      "text/plain": [
       "array([[ 1,  2,  3, 27,  1,  1],\n",
       "       [ 1,  2,  3, 27,  1,  1]])"
      ]
     },
     "execution_count": 254,
     "metadata": {},
     "output_type": "execute_result"
    }
   ],
   "source": [
    "transform(X, a=1)"
   ]
  },
  {
   "cell_type": "code",
   "execution_count": 271,
   "metadata": {},
   "outputs": [],
   "source": [
    "a = np.array([1, 2, 2, 3, 3, 1, 1, 5, 5, 2, 3, 3])\n",
    "import numpy as np\n",
    "from itertools import groupby\n",
    "\n",
    "def encode(a):\n",
    "    return zip(*((key, len(tuple(group))) for key, group in groupby(a)))"
   ]
  },
  {
   "cell_type": "code",
   "execution_count": 276,
   "metadata": {},
   "outputs": [],
   "source": [
    "import numpy as np\n",
    "\n",
    "def encode(a):              \n",
    "        n = len(a)\n",
    "        if n == 0: \n",
    "            return (None, None, None)\n",
    "        else:\n",
    "            y = np.array(a[1:] != a[:-1])   \n",
    "            print(\"y = {}\".format(y))\n",
    "            print(\"where(y) = {}\".format(np.where(y)))\n",
    "            i = np.append(np.where(y), n - 1)   \n",
    "            print(\"i = {}\".format(i))\n",
    "            z = np.diff(np.append(-1, i)) \n",
    "            print(\"z = {}\".format(z))\n",
    "            return(a[i], z)"
   ]
  },
  {
   "cell_type": "code",
   "execution_count": 277,
   "metadata": {
    "scrolled": true
   },
   "outputs": [
    {
     "name": "stdout",
     "output_type": "stream",
     "text": [
      "y = [ True False  True False  True False  True False  True  True False]\n",
      "where(y) = (array([0, 2, 4, 6, 8, 9], dtype=int32),)\n",
      "i = [ 0  2  4  6  8  9 11]\n",
      "z = [1 2 2 2 2 1 2]\n",
      "(array([1, 2, 3, 1, 5, 2, 3]), array([1, 2, 2, 2, 2, 1, 2]))\n"
     ]
    }
   ],
   "source": [
    "a = np.array([1, 2, 2, 3, 3, 1, 1, 5, 5, 2, 3, 3])\n",
    "print(encode(a))"
   ]
  },
  {
   "cell_type": "code",
   "execution_count": null,
   "metadata": {},
   "outputs": [],
   "source": []
  }
 ],
 "metadata": {
  "kernelspec": {
   "display_name": "Python 3",
   "language": "python",
   "name": "python3"
  },
  "language_info": {
   "codemirror_mode": {
    "name": "ipython",
    "version": 3
   },
   "file_extension": ".py",
   "mimetype": "text/x-python",
   "name": "python",
   "nbconvert_exporter": "python",
   "pygments_lexer": "ipython3",
   "version": "3.7.4"
  }
 },
 "nbformat": 4,
 "nbformat_minor": 4
}

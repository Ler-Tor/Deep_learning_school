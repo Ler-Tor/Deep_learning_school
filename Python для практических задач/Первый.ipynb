{
 "cells": [
  {
   "cell_type": "code",
   "execution_count": 15,
   "metadata": {},
   "outputs": [
    {
     "name": "stdout",
     "output_type": "stream",
     "text": [
      "17\n",
      "3\n"
     ]
    }
   ],
   "source": [
    "from urllib.request import urlopen\n",
    "html_page = urlopen(\"https://stepik.org/media/attachments/lesson/209717/1.html\").read().decode('utf-8')\n",
    "s =str(html_page)\n",
    "print(s.count(\"C++\"))\n",
    "print(s.count(\"Python\"))"
   ]
  },
  {
   "cell_type": "code",
   "execution_count": 28,
   "metadata": {},
   "outputs": [
    {
     "name": "stdout",
     "output_type": "stream",
     "text": [
      "['+=', '.py, .pyw, .pyc, .pyo, .pyd<sup id=\"cite_ref-3\" class=\"reference\"><a href=\"#cite_note-3\">&#91;3&#93;</a></sup>', '.pyc', '.pyo', '@', '@', '@декоратор(аргументы)', '__doc__', 'a, *rest, b = range(5)', 'and', 'break', 'child', 'class', 'complex', 'contextlib', 'continue', 'def', 'def foo(a, (b, c))', 'elif', 'else', 'else', 'else', 'else', 'else, except', 'except', 'except', 'except', 'except', 'exec', 'filter', 'finally', 'finally', 'finally', 'finally', 'for', 'for', 'for', 'from __future__ import print_function', 'functools', 'help()', 'if', 'import', 'import keyword; print(keyword.kwlist)', 'import this', 'int', 'int', 'int, str, float, list', 'io', \"is, '.', '='\", 'itertools', 'len()', 'logging', 'long', 'map', 'master', 'next()', 'or', 'or', 'parent', 'pass', 'pdb', 'print', 'printf()', 'profile', 're', 'reduce', 'reduce', 'reload()', 'return', 'return', 'return', 's[N:M]', 'send()', 'slave', 'sort()', 'sys.exc_info()', 'threading', 'throw()', 'timeit', 'try', 'try', 'try', 'try, except, else, finally, raise', 'unittest', 'while', 'with', 'with', 'yield', 'yield', '{el1, el2, el3}', '{k: v for k, v in a_dict}']\n"
     ]
    }
   ],
   "source": [
    "from re import findall\n",
    "from urllib.request import urlopen\n",
    "html_page = urlopen(\"https://stepik.org/media/attachments/lesson/209719/2.html\").read().decode('utf-8')\n",
    "s =str(html_page)\n",
    "\n",
    "pattern = r'(?<=<code>).*?(?=<\\/code>)'\n",
    "l = sorted(findall(pattern, s)) \n",
    "print(l)"
   ]
  },
  {
   "cell_type": "code",
   "execution_count": 44,
   "metadata": {},
   "outputs": [
    {
     "data": {
      "text/html": [
       "<div>\n",
       "<style scoped>\n",
       "    .dataframe tbody tr th:only-of-type {\n",
       "        vertical-align: middle;\n",
       "    }\n",
       "\n",
       "    .dataframe tbody tr th {\n",
       "        vertical-align: top;\n",
       "    }\n",
       "\n",
       "    .dataframe thead th {\n",
       "        text-align: right;\n",
       "    }\n",
       "</style>\n",
       "<table border=\"1\" class=\"dataframe\">\n",
       "  <thead>\n",
       "    <tr style=\"text-align: right;\">\n",
       "      <th></th>\n",
       "      <th>0</th>\n",
       "    </tr>\n",
       "  </thead>\n",
       "  <tbody>\n",
       "    <tr>\n",
       "      <th>0</th>\n",
       "      <td>else</td>\n",
       "    </tr>\n",
       "    <tr>\n",
       "      <th>1</th>\n",
       "      <td>except</td>\n",
       "    </tr>\n",
       "    <tr>\n",
       "      <th>2</th>\n",
       "      <td>finally</td>\n",
       "    </tr>\n",
       "  </tbody>\n",
       "</table>\n",
       "</div>"
      ],
      "text/plain": [
       "         0\n",
       "0     else\n",
       "1   except\n",
       "2  finally"
      ]
     },
     "execution_count": 44,
     "metadata": {},
     "output_type": "execute_result"
    }
   ],
   "source": [
    "import pandas as pd\n",
    "\n",
    "data = pd.DataFrame(l)\n",
    "\n",
    "data.mode()"
   ]
  },
  {
   "cell_type": "code",
   "execution_count": null,
   "metadata": {},
   "outputs": [],
   "source": []
  }
 ],
 "metadata": {
  "kernelspec": {
   "display_name": "Python 3",
   "language": "python",
   "name": "python3"
  },
  "language_info": {
   "codemirror_mode": {
    "name": "ipython",
    "version": 3
   },
   "file_extension": ".py",
   "mimetype": "text/x-python",
   "name": "python",
   "nbconvert_exporter": "python",
   "pygments_lexer": "ipython3",
   "version": "3.7.4"
  }
 },
 "nbformat": 4,
 "nbformat_minor": 4
}
